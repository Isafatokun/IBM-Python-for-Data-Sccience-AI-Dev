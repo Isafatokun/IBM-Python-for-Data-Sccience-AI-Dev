{
 "cells": [
  {
   "cell_type": "markdown",
   "id": "d59f0b11-139e-4527-9234-7d43d733e08f",
   "metadata": {},
   "source": [
    "<h2 id=\"rect\">Project Brief</h2>"
   ]
  },
  {
   "cell_type": "markdown",
   "id": "1529d99d-c5e1-4931-beba-7b06dda34ef0",
   "metadata": {},
   "source": [
    "You have been recruited by your friend, a linguistics enthusiast, to create a utility tool that can perform analysis on a given piece of text. Complete the class\n",
    "'analysedText' with the following methods -\n",
    "\n",
    "<ul>\n",
    "    <li> Constructor - Takes argument 'text',makes it lower case and removes all punctuation. Assume only the following punctuation is used - period (.), exclamation mark (!), comma (,) and question mark (?). Store the argument in \"fmtText\"      \n",
    "    <li> freqAll - returns a dictionary of all unique words in the text along with the number of their occurences.\n",
    "    <li> freqOf - returns the frequency of the word passed in argument.\n",
    "</ul>\n",
    " The skeleton code has been given to you. Docstrings can be ignored for the purpose of the exercise. <br>\n",
    " <i> Hint: Some useful functions are <code>replace()</code>, <code>lower()</code>, <code>split()</code>, <code>count()</code> </i><br>"
   ]
  },
  {
   "cell_type": "markdown",
   "id": "bc77b5ce-290e-455c-af2a-6b885bbe685d",
   "metadata": {},
   "source": [
    "<h2 id=\"rect\">Code I Wrote</h2>"
   ]
  },
  {
   "cell_type": "code",
   "execution_count": 40,
   "id": "f142d02d-a3a0-4e68-94c9-6e31ff6df1b6",
   "metadata": {},
   "outputs": [],
   "source": [
    "class analysedText(object):\n",
    "    \"\"\"A class to analyse text\"\"\"\n",
    "\n",
    "    def __init__(self, text):\n",
    "        \"\"\"Constructor, takes a text and turns it to lower case and then removes punctuations\"\"\"\n",
    "\n",
    "        # Remove punctuation\n",
    "        remove_punctuation = text.replace(\",\",\"\").replace(\".\",\"\").replace(\"?\",\"\").replace(\"!\",\"\")\n",
    "\n",
    "        # Change to lowercase\n",
    "        fmtText= remove_punctuation.lower() \n",
    "\n",
    "        # Construct Self\n",
    "        self.fmtText = fmtText\n",
    "\n",
    "    def freqAll(self):\n",
    "        \"\"\"Check the frequenbcy of each word\"\"\"\n",
    "\n",
    "        # Split the text into various words and store in a list\n",
    "        words = self.fmtText.split()\n",
    "\n",
    "        # Empty dictiinary to store the freq of each word\n",
    "        freqAll = {}\n",
    "\n",
    "        # Populate the dictionary\n",
    "        for word in words:\n",
    "            freqAll[word] = words.count(word)\n",
    "        return freqAll\n",
    "\n",
    "    def freqOf(self, word):\n",
    "        \"\"\"Check Frequency of a passed word\"\"\"\n",
    "        self.word = word\n",
    "        words = self.fmtText.split()\n",
    "        number = words.count(self.word)\n",
    "        return number"
   ]
  },
  {
   "cell_type": "markdown",
   "id": "1bfdb345-24ba-417f-a5c3-3f1a65aec4c7",
   "metadata": {},
   "source": [
    "<h2 id=\"rect\">Testing the Class using the code provided by the IBM Course</h2>"
   ]
  },
  {
   "cell_type": "code",
   "execution_count": 36,
   "id": "fc7b387d-32d0-49ab-b851-ae2c6b69c531",
   "metadata": {},
   "outputs": [
    {
     "name": "stdout",
     "output_type": "stream",
     "text": [
      "Constructor: \n",
      "Test Passed\n",
      "freqAll: \n",
      "Test Passed\n",
      "freqOf: \n",
      "Test Passed\n"
     ]
    }
   ],
   "source": [
    "import sys\n",
    "\n",
    "sampleMap = {'eirmod': 1,'sed': 1, 'amet': 2, 'diam': 5, 'consetetur': 1, 'labore': 1, 'tempor': 1, 'dolor': 1, 'magna': 2, 'et': 3, 'nonumy': 1, 'ipsum': 1, 'lorem': 2}\n",
    "\n",
    "def testMsg(passed):\n",
    "    if passed:\n",
    "       return 'Test Passed'\n",
    "    else :\n",
    "       return 'Test Failed'\n",
    "\n",
    "print(\"Constructor: \")\n",
    "try:\n",
    "    samplePassage = analysedText(\"Lorem ipsum dolor! diam amet, consetetur Lorem magna. sed diam nonumy eirmod tempor. diam et labore? et diam magna. et diam amet.\")\n",
    "    print(testMsg(samplePassage.fmtText == \"lorem ipsum dolor diam amet consetetur lorem magna sed diam nonumy eirmod tempor diam et labore et diam magna et diam amet\"))\n",
    "except:\n",
    "    print(\"Error detected. Recheck your function \" )\n",
    "print(\"freqAll: \")\n",
    "try:\n",
    "    wordMap = samplePassage.freqAll()\n",
    "    print(testMsg(wordMap==sampleMap))\n",
    "except:\n",
    "    print(\"Error detected. Recheck your function \" )\n",
    "print(\"freqOf: \")\n",
    "try:\n",
    "    passed = True\n",
    "    for word in sampleMap:\n",
    "        if samplePassage.freqOf(word) != sampleMap[word]:\n",
    "            passed = False\n",
    "            break\n",
    "    print(testMsg(passed))\n",
    "    \n",
    "except:\n",
    "    print(\"Error detected. Recheck your function  \" )"
   ]
  },
  {
   "cell_type": "code",
   "execution_count": null,
   "id": "76057cba-d410-4bb5-93fc-b6a8f521e3d2",
   "metadata": {},
   "outputs": [],
   "source": []
  }
 ],
 "metadata": {
  "kernelspec": {
   "display_name": "Python",
   "language": "python",
   "name": "conda-env-python-py"
  },
  "language_info": {
   "codemirror_mode": {
    "name": "ipython",
    "version": 3
   },
   "file_extension": ".py",
   "mimetype": "text/x-python",
   "name": "python",
   "nbconvert_exporter": "python",
   "pygments_lexer": "ipython3",
   "version": "3.7.12"
  }
 },
 "nbformat": 4,
 "nbformat_minor": 5
}
